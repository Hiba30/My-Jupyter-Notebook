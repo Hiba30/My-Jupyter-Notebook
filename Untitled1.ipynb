{
 "cells": [
  {
   "cell_type": "markdown",
   "id": "820e7106-3032-4982-93e2-2915f9065cfa",
   "metadata": {},
   "source": [
    "## MY jupyter Notebook in watson studio"
   ]
  },
  {
   "cell_type": "markdown",
   "id": "47bd6fb4-2407-49fe-ab2e-7b81e2837a19",
   "metadata": {},
   "source": [
    "## Hiba Ahmad\n",
    "## Data Analyst "
   ]
  },
  {
   "cell_type": "markdown",
   "id": "cd22e3c1-235c-4327-81e2-8782ac3a419c",
   "metadata": {},
   "source": [
    "## I am interested in Data Analysis because you can find endless possibilities by performing the deep analysis on the business structure and create many outcomes to define new ways. "
   ]
  },
  {
   "cell_type": "markdown",
   "id": "5312e99e-7f96-457d-96b4-297846de7fad",
   "metadata": {},
   "source": [
    "## i will add few numbers."
   ]
  },
  {
   "cell_type": "code",
   "execution_count": 2,
   "id": "6579cffc-f1ec-483f-9837-6eb7ebf122cc",
   "metadata": {},
   "outputs": [
    {
     "name": "stdout",
     "output_type": "stream",
     "text": [
      "15\n"
     ]
    }
   ],
   "source": [
    "seven=7\n",
    "eight=8\n",
    "print(seven+eight)"
   ]
  },
  {
   "cell_type": "raw",
   "id": "a9717df8-ba1a-44d7-8fcb-658ae4076e14",
   "metadata": {},
   "source": [
    "##1-Names\n",
    "##2-IDs\n",
    "##3-Locations"
   ]
  },
  {
   "cell_type": "code",
   "execution_count": null,
   "id": "d19d40a2-b0b9-424e-b92c-4c70aeee4632",
   "metadata": {},
   "outputs": [],
   "source": []
  }
 ],
 "metadata": {
  "kernelspec": {
   "display_name": "Python",
   "language": "python",
   "name": "conda-env-python-py"
  },
  "language_info": {
   "codemirror_mode": {
    "name": "ipython",
    "version": 3
   },
   "file_extension": ".py",
   "mimetype": "text/x-python",
   "name": "python",
   "nbconvert_exporter": "python",
   "pygments_lexer": "ipython3",
   "version": "3.7.12"
  }
 },
 "nbformat": 4,
 "nbformat_minor": 5
}
